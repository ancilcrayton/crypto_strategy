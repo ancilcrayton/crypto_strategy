{
 "cells": [
  {
   "cell_type": "code",
   "execution_count": 1,
   "metadata": {},
   "outputs": [],
   "source": [
    "import numpy as np\n",
    "import pandas as pd\n",
    "import pandas_datareader as pdr\n",
    "import plotly.offline as pyo\n",
    "import plotly.graph_objs as go\n",
    "import "
   ]
  },
  {
   "cell_type": "code",
   "execution_count": 2,
   "metadata": {},
   "outputs": [],
   "source": [
    "# Set dates\n",
    "start_date = pd.datetime(2018,1,1)\n",
    "end_date = pd.datetime.today()"
   ]
  },
  {
   "cell_type": "code",
   "execution_count": 3,
   "metadata": {},
   "outputs": [],
   "source": [
    "# Get Bitcoin data\n",
    "btc = pdr.get_data_yahoo('BTC-USD', start_date, end_date)"
   ]
  },
  {
   "cell_type": "code",
   "execution_count": 4,
   "metadata": {},
   "outputs": [
    {
     "data": {
      "text/html": [
       "<div>\n",
       "<style>\n",
       "    .dataframe thead tr:only-child th {\n",
       "        text-align: right;\n",
       "    }\n",
       "\n",
       "    .dataframe thead th {\n",
       "        text-align: left;\n",
       "    }\n",
       "\n",
       "    .dataframe tbody tr th {\n",
       "        vertical-align: top;\n",
       "    }\n",
       "</style>\n",
       "<table border=\"1\" class=\"dataframe\">\n",
       "  <thead>\n",
       "    <tr style=\"text-align: right;\">\n",
       "      <th></th>\n",
       "      <th>High</th>\n",
       "      <th>Low</th>\n",
       "      <th>Open</th>\n",
       "      <th>Close</th>\n",
       "      <th>Volume</th>\n",
       "      <th>Adj Close</th>\n",
       "    </tr>\n",
       "    <tr>\n",
       "      <th>Date</th>\n",
       "      <th></th>\n",
       "      <th></th>\n",
       "      <th></th>\n",
       "      <th></th>\n",
       "      <th></th>\n",
       "      <th></th>\n",
       "    </tr>\n",
       "  </thead>\n",
       "  <tbody>\n",
       "    <tr>\n",
       "      <th>2018-01-01</th>\n",
       "      <td>13921.530273</td>\n",
       "      <td>12877.669922</td>\n",
       "      <td>13850.490234</td>\n",
       "      <td>13444.879883</td>\n",
       "      <td>1057521524</td>\n",
       "      <td>13444.879883</td>\n",
       "    </tr>\n",
       "    <tr>\n",
       "      <th>2018-01-02</th>\n",
       "      <td>15306.129883</td>\n",
       "      <td>12934.160156</td>\n",
       "      <td>13444.879883</td>\n",
       "      <td>14754.129883</td>\n",
       "      <td>1956783037</td>\n",
       "      <td>14754.129883</td>\n",
       "    </tr>\n",
       "    <tr>\n",
       "      <th>2018-01-03</th>\n",
       "      <td>15435.009766</td>\n",
       "      <td>14579.709961</td>\n",
       "      <td>14754.089844</td>\n",
       "      <td>15156.620117</td>\n",
       "      <td>1604206990</td>\n",
       "      <td>15156.620117</td>\n",
       "    </tr>\n",
       "    <tr>\n",
       "      <th>2018-01-04</th>\n",
       "      <td>15408.660156</td>\n",
       "      <td>14244.669922</td>\n",
       "      <td>15156.490234</td>\n",
       "      <td>15180.080078</td>\n",
       "      <td>1656714736</td>\n",
       "      <td>15180.080078</td>\n",
       "    </tr>\n",
       "    <tr>\n",
       "      <th>2018-01-05</th>\n",
       "      <td>17126.949219</td>\n",
       "      <td>14832.360352</td>\n",
       "      <td>15180.080078</td>\n",
       "      <td>16954.779297</td>\n",
       "      <td>2283988962</td>\n",
       "      <td>16954.779297</td>\n",
       "    </tr>\n",
       "  </tbody>\n",
       "</table>\n",
       "</div>"
      ],
      "text/plain": [
       "                    High           Low          Open         Close  \\\n",
       "Date                                                                 \n",
       "2018-01-01  13921.530273  12877.669922  13850.490234  13444.879883   \n",
       "2018-01-02  15306.129883  12934.160156  13444.879883  14754.129883   \n",
       "2018-01-03  15435.009766  14579.709961  14754.089844  15156.620117   \n",
       "2018-01-04  15408.660156  14244.669922  15156.490234  15180.080078   \n",
       "2018-01-05  17126.949219  14832.360352  15180.080078  16954.779297   \n",
       "\n",
       "                Volume     Adj Close  \n",
       "Date                                  \n",
       "2018-01-01  1057521524  13444.879883  \n",
       "2018-01-02  1956783037  14754.129883  \n",
       "2018-01-03  1604206990  15156.620117  \n",
       "2018-01-04  1656714736  15180.080078  \n",
       "2018-01-05  2283988962  16954.779297  "
      ]
     },
     "execution_count": 4,
     "metadata": {},
     "output_type": "execute_result"
    }
   ],
   "source": [
    "# View the head of the data\n",
    "btc.head()"
   ]
  },
  {
   "cell_type": "code",
   "execution_count": 6,
   "metadata": {},
   "outputs": [
    {
     "data": {
      "text/plain": [
       "Date\n",
       "2018-01-01    13850.490234\n",
       "2018-01-02    13444.879883\n",
       "2018-01-03    14754.089844\n",
       "2018-01-04    15156.490234\n",
       "2018-01-05    15180.080078\n",
       "Name: Open, dtype: float64"
      ]
     },
     "execution_count": 6,
     "metadata": {},
     "output_type": "execute_result"
    }
   ],
   "source": [
    "# Save the open price\n",
    "btc_open = btc['Open']"
   ]
  },
  {
   "cell_type": "code",
   "execution_count": 8,
   "metadata": {},
   "outputs": [
    {
     "data": {
      "text/plain": [
       "'file:///Volumes/Seagate Backup Plus Drive/portfolio/projects/crypto_strategy/notebooks/temp-plot.html'"
      ]
     },
     "execution_count": 8,
     "metadata": {},
     "output_type": "execute_result"
    }
   ],
   "source": [
    "# Create graph object\n",
    "trace = go.Scatter(x=btc_open.index, y = btc_open,\n",
    "                  mode='lines')\n",
    "\n",
    "data = [trace]\n",
    "layout = go.Layout(title='Bitcoin, USD 2018')\n",
    "\n",
    "fig = go.Figure(data=data, layout=layout)\n",
    "pyo.plot(fig)"
   ]
  },
  {
   "cell_type": "markdown",
   "metadata": {},
   "source": [
    "## Define Bollinger Bands"
   ]
  },
  {
   "cell_type": "code",
   "execution_count": 19,
   "metadata": {},
   "outputs": [],
   "source": [
    "# Set window size and number of standard deviations\n",
    "window_size = 5\n",
    "no_std_devs = 2"
   ]
  },
  {
   "cell_type": "code",
   "execution_count": 20,
   "metadata": {},
   "outputs": [],
   "source": [
    "# Empirical mean and standard deviation\n",
    "btc_mean = btc_open.rolling(window_size).mean()\n",
    "btc_std = btc_open.rolling(window_size).std()"
   ]
  },
  {
   "cell_type": "code",
   "execution_count": 21,
   "metadata": {},
   "outputs": [],
   "source": [
    "# Calculate the Bollinger bands\n",
    "bollinger_low = btc_mean - (btc_std*no_std_devs)\n",
    "bollinger_high = btc_mean + (btc_std*no_std_devs)"
   ]
  },
  {
   "cell_type": "code",
   "execution_count": 22,
   "metadata": {},
   "outputs": [
    {
     "data": {
      "text/plain": [
       "'file:///Volumes/Seagate Backup Plus Drive/portfolio/projects/crypto_strategy/notebooks/temp-plot.html'"
      ]
     },
     "execution_count": 22,
     "metadata": {},
     "output_type": "execute_result"
    }
   ],
   "source": [
    "# Create graph object\n",
    "trace1 = go.Scatter(x=btc_open.index, y = btc_open,\n",
    "                  mode='lines', name='BTC-USD')\n",
    "trace2 = go.Scatter(x=btc_open.index, y = bollinger_low,\n",
    "                  mode='lines', name='Bollinger Low')\n",
    "trace3 = go.Scatter(x=btc_open.index, y = bollinger_high,\n",
    "                  mode='lines', name='Bollinger High')\n",
    "\n",
    "data = [trace1, trace2, trace3]\n",
    "layout = go.Layout(title='Bitcoin with Bollinger bands, USD 2018')\n",
    "\n",
    "fig = go.Figure(data=data, layout=layout)\n",
    "pyo.plot(fig)"
   ]
  },
  {
   "cell_type": "code",
   "execution_count": null,
   "metadata": {},
   "outputs": [],
   "source": []
  }
 ],
 "metadata": {
  "kernelspec": {
   "display_name": "Python 3",
   "language": "python",
   "name": "python3"
  },
  "language_info": {
   "codemirror_mode": {
    "name": "ipython",
    "version": 3
   },
   "file_extension": ".py",
   "mimetype": "text/x-python",
   "name": "python",
   "nbconvert_exporter": "python",
   "pygments_lexer": "ipython3",
   "version": "3.6.3"
  }
 },
 "nbformat": 4,
 "nbformat_minor": 2
}
