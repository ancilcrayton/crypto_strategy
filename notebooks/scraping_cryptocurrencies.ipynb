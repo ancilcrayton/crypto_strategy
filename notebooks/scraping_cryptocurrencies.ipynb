{
 "cells": [
  {
   "cell_type": "markdown",
   "metadata": {},
   "source": [
    "# Scraping cryptocurrencies from Yahoo Finance"
   ]
  },
  {
   "cell_type": "code",
   "execution_count": 18,
   "metadata": {},
   "outputs": [],
   "source": [
    "import numpy as np\n",
    "import pandas as pd\n",
    "from bs4 import BeautifulSoup\n",
    "import requests\n",
    "import re"
   ]
  },
  {
   "cell_type": "code",
   "execution_count": 2,
   "metadata": {},
   "outputs": [],
   "source": [
    "url = \"https://finance.yahoo.com/cryptocurrencies/?offset=0&count=100\""
   ]
  },
  {
   "cell_type": "code",
   "execution_count": 3,
   "metadata": {},
   "outputs": [],
   "source": [
    "page_response = requests.get(url=url, timeout=5)"
   ]
  },
  {
   "cell_type": "code",
   "execution_count": 4,
   "metadata": {},
   "outputs": [],
   "source": [
    "page_content = BeautifulSoup(page_response.content, \"html.parser\")"
   ]
  },
  {
   "cell_type": "code",
   "execution_count": 21,
   "metadata": {},
   "outputs": [
    {
     "data": {
      "text/plain": [
       "[<a class=\"Fw(b)\" data-reactid=\"70\" href=\"/quote/BTC-USD?p=BTC-USD\" title=\"Bitcoin USD\">BTC-USD</a>,\n",
       " <a class=\"Fw(b)\" data-reactid=\"97\" href=\"/quote/XRP-USD?p=XRP-USD\" title=\"Ripple USD\">XRP-USD</a>,\n",
       " <a class=\"Fw(b)\" data-reactid=\"124\" href=\"/quote/ETH-USD?p=ETH-USD\" title=\"Ethereum USD\">ETH-USD</a>,\n",
       " <a class=\"Fw(b)\" data-reactid=\"151\" href=\"/quote/BCH-USD?p=BCH-USD\" title=\"Bitcoin Cash / BCC USD\">BCH-USD</a>,\n",
       " <a class=\"Fw(b)\" data-reactid=\"178\" href=\"/quote/XLM-USD?p=XLM-USD\" title=\"Stellar USD\">XLM-USD</a>,\n",
       " <a class=\"Fw(b)\" data-reactid=\"205\" href=\"/quote/EOS-USD?p=EOS-USD\" title=\"EOS USD\">EOS-USD</a>,\n",
       " <a class=\"Fw(b)\" data-reactid=\"232\" href=\"/quote/LTC-USD?p=LTC-USD\" title=\"Litecoin USD\">LTC-USD</a>,\n",
       " <a class=\"Fw(b)\" data-reactid=\"259\" href=\"/quote/USDT-USD?p=USDT-USD\" title=\"Tether USD\">USDT-USD</a>,\n",
       " <a class=\"Fw(b)\" data-reactid=\"286\" href=\"/quote/ADA-USD?p=ADA-USD\" title=\"Cardano USD\">ADA-USD</a>,\n",
       " <a class=\"Fw(b)\" data-reactid=\"313\" href=\"/quote/XMR-USD?p=XMR-USD\" title=\"Monero USD\">XMR-USD</a>,\n",
       " <a class=\"Fw(b)\" data-reactid=\"340\" href=\"/quote/BNB-USD?p=BNB-USD\" title=\"Binance Coin USD\">BNB-USD</a>,\n",
       " <a class=\"Fw(b)\" data-reactid=\"367\" href=\"/quote/TRX-USD?p=TRX-USD\" title=\"Tronix USD\">TRX-USD</a>,\n",
       " <a class=\"Fw(b)\" data-reactid=\"394\" href=\"/quote/DASH-USD?p=DASH-USD\" title=\"DigitalCash USD\">DASH-USD</a>,\n",
       " <a class=\"Fw(b)\" data-reactid=\"421\" href=\"/quote/IOT-USD?p=IOT-USD\" title=\"IOTA USD\">IOT-USD</a>,\n",
       " <a class=\"Fw(b)\" data-reactid=\"448\" href=\"/quote/XEM-USD?p=XEM-USD\" title=\"NEM USD\">XEM-USD</a>,\n",
       " <a class=\"Fw(b)\" data-reactid=\"475\" href=\"/quote/VEN-USD?p=VEN-USD\" title=\"Vechain USD\">VEN-USD</a>,\n",
       " <a class=\"Fw(b)\" data-reactid=\"502\" href=\"/quote/NEO-USD?p=NEO-USD\" title=\"NEO USD\">NEO-USD</a>,\n",
       " <a class=\"Fw(b)\" data-reactid=\"529\" href=\"/quote/ETC-USD?p=ETC-USD\" title=\"Ethereum Classic USD\">ETC-USD</a>,\n",
       " <a class=\"Fw(b)\" data-reactid=\"556\" href=\"/quote/ZEC-USD?p=ZEC-USD\" title=\"ZCash USD\">ZEC-USD</a>,\n",
       " <a class=\"Fw(b)\" data-reactid=\"583\" href=\"/quote/ZRX-USD?p=ZRX-USD\" title=\"0x USD\">ZRX-USD</a>,\n",
       " <a class=\"Fw(b)\" data-reactid=\"610\" href=\"/quote/BTG-USD?p=BTG-USD\" title=\"Bitcoin Gold USD\">BTG-USD</a>,\n",
       " <a class=\"Fw(b)\" data-reactid=\"637\" href=\"/quote/LINK-USD?p=LINK-USD\" title=\"ChainLink USD\">LINK-USD</a>,\n",
       " <a class=\"Fw(b)\" data-reactid=\"664\" href=\"/quote/XRB-USD?p=XRB-USD\" title=\"Nano USD\">XRB-USD</a>,\n",
       " <a class=\"Fw(b)\" data-reactid=\"691\" href=\"/quote/DOGE-USD?p=DOGE-USD\" title=\"Dogecoin USD\">DOGE-USD</a>,\n",
       " <a class=\"Fw(b)\" data-reactid=\"718\" href=\"/quote/BAT-USD?p=BAT-USD\" title=\"Basic Attention Token USD\">BAT-USD</a>,\n",
       " <a class=\"Fw(b)\" data-reactid=\"745\" href=\"/quote/OMG-USD?p=OMG-USD\" title=\"OmiseGo USD\">OMG-USD</a>,\n",
       " <a class=\"Fw(b)\" data-reactid=\"772\" href=\"/quote/QTUM-USD?p=QTUM-USD\" title=\"QTUM USD\">QTUM-USD</a>,\n",
       " <a class=\"Fw(b)\" data-reactid=\"799\" href=\"/quote/QASH-USD?p=QASH-USD\" title=\"Quoine Liquid USD\">QASH-USD</a>,\n",
       " <a class=\"Fw(b)\" data-reactid=\"826\" href=\"/quote/DCR-USD?p=DCR-USD\" title=\"Decred USD\">DCR-USD</a>,\n",
       " <a class=\"Fw(b)\" data-reactid=\"853\" href=\"/quote/LSK-USD?p=LSK-USD\" title=\"Lisk USD\">LSK-USD</a>,\n",
       " <a class=\"Fw(b)\" data-reactid=\"880\" href=\"/quote/AE-USD?p=AE-USD\" title=\"Aeternity USD\">AE-USD</a>,\n",
       " <a class=\"Fw(b)\" data-reactid=\"907\" href=\"/quote/DGB-USD?p=DGB-USD\" title=\"DigiByte USD\">DGB-USD</a>,\n",
       " <a class=\"Fw(b)\" data-reactid=\"934\" href=\"/quote/SNT-USD?p=SNT-USD\" title=\"Status Network Token USD\">SNT-USD</a>,\n",
       " <a class=\"Fw(b)\" data-reactid=\"961\" href=\"/quote/BTS-USD?p=BTS-USD\" title=\"Bitshares USD\">BTS-USD</a>,\n",
       " <a class=\"Fw(b)\" data-reactid=\"988\" href=\"/quote/GNO-USD?p=GNO-USD\" title=\"Gnosis USD\">GNO-USD</a>,\n",
       " <a class=\"Fw(b)\" data-reactid=\"1015\" href=\"/quote/WAVES-USD?p=WAVES-USD\" title=\"Waves USD\">WAVES-USD</a>,\n",
       " <a class=\"Fw(b)\" data-reactid=\"1042\" href=\"/quote/ICX-USD?p=ICX-USD\" title=\"ICON Project USD\">ICX-USD</a>,\n",
       " <a class=\"Fw(b)\" data-reactid=\"1069\" href=\"/quote/SC-USD?p=SC-USD\" title=\"Siacoin USD\">SC-USD</a>,\n",
       " <a class=\"Fw(b)\" data-reactid=\"1096\" href=\"/quote/PPT-USD?p=PPT-USD\" title=\"Populous USD\">PPT-USD</a>,\n",
       " <a class=\"Fw(b)\" data-reactid=\"1123\" href=\"/quote/REP-USD?p=REP-USD\" title=\"Augur USD\">REP-USD</a>,\n",
       " <a class=\"Fw(b)\" data-reactid=\"1150\" href=\"/quote/WTC-USD?p=WTC-USD\" title=\"Waltonchain USD\">WTC-USD</a>,\n",
       " <a class=\"Fw(b)\" data-reactid=\"1177\" href=\"/quote/GNT-USD?p=GNT-USD\" title=\"Golem Network Token USD\">GNT-USD</a>,\n",
       " <a class=\"Fw(b)\" data-reactid=\"1204\" href=\"/quote/FCT-USD?p=FCT-USD\" title=\"Factoids USD\">FCT-USD</a>,\n",
       " <a class=\"Fw(b)\" data-reactid=\"1231\" href=\"/quote/STRAT-USD?p=STRAT-USD\" title=\"Stratis USD\">STRAT-USD</a>,\n",
       " <a class=\"Fw(b)\" data-reactid=\"1258\" href=\"/quote/FUN-USD?p=FUN-USD\" title=\"FunFair USD\">FUN-USD</a>,\n",
       " <a class=\"Fw(b)\" data-reactid=\"1285\" href=\"/quote/MAID-USD?p=MAID-USD\" title=\"MaidSafe Coin USD\">MAID-USD</a>,\n",
       " <a class=\"Fw(b)\" data-reactid=\"1312\" href=\"/quote/MCO-USD?p=MCO-USD\" title=\"Monaco USD\">MCO-USD</a>,\n",
       " <a class=\"Fw(b)\" data-reactid=\"1339\" href=\"/quote/KMD-USD?p=KMD-USD\" title=\"Komodo USD\">KMD-USD</a>,\n",
       " <a class=\"Fw(b)\" data-reactid=\"1366\" href=\"/quote/STORJ-USD?p=STORJ-USD\" title=\"Storj USD\">STORJ-USD</a>,\n",
       " <a class=\"Fw(b)\" data-reactid=\"1393\" href=\"/quote/LRC-USD?p=LRC-USD\" title=\"Loopring USD\">LRC-USD</a>,\n",
       " <a class=\"Fw(b)\" data-reactid=\"1420\" href=\"/quote/CVC-USD?p=CVC-USD\" title=\"Civic USD\">CVC-USD</a>,\n",
       " <a class=\"Fw(b)\" data-reactid=\"1447\" href=\"/quote/XUC-USD?p=XUC-USD\" title=\"Exchange Union USD\">XUC-USD</a>,\n",
       " <a class=\"Fw(b)\" data-reactid=\"1474\" href=\"/quote/ARDR-USD?p=ARDR-USD\" title=\"Ardor USD\">ARDR-USD</a>,\n",
       " <a class=\"Fw(b)\" data-reactid=\"1501\" href=\"/quote/ETP-USD?p=ETP-USD\" title=\"Metaverse USD\">ETP-USD</a>,\n",
       " <a class=\"Fw(b)\" data-reactid=\"1528\" href=\"/quote/PAY-USD?p=PAY-USD\" title=\"TenX USD\">PAY-USD</a>,\n",
       " <a class=\"Fw(b)\" data-reactid=\"1555\" href=\"/quote/BNT-USD?p=BNT-USD\" title=\"Bancor Network Token USD\">BNT-USD</a>,\n",
       " <a class=\"Fw(b)\" data-reactid=\"1582\" href=\"/quote/MONA-USD?p=MONA-USD\" title=\"MonaCoin USD\">MONA-USD</a>,\n",
       " <a class=\"Fw(b)\" data-reactid=\"1609\" href=\"/quote/ARK-USD?p=ARK-USD\" title=\"ARK USD\">ARK-USD</a>,\n",
       " <a class=\"Fw(b)\" data-reactid=\"1636\" href=\"/quote/VERI-USD?p=VERI-USD\" title=\"Veritaseum USD\">VERI-USD</a>,\n",
       " <a class=\"Fw(b)\" data-reactid=\"1663\" href=\"/quote/MGO-USD?p=MGO-USD\" title=\"MobileGo USD\">MGO-USD</a>,\n",
       " <a class=\"Fw(b)\" data-reactid=\"1690\" href=\"/quote/HSR-USD?p=HSR-USD\" title=\"Hshare USD\">HSR-USD</a>,\n",
       " <a class=\"Fw(b)\" data-reactid=\"1717\" href=\"/quote/KNC-USD?p=KNC-USD\" title=\"Kyber Network USD\">KNC-USD</a>,\n",
       " <a class=\"Fw(b)\" data-reactid=\"1744\" href=\"/quote/DGD-USD?p=DGD-USD\" title=\"Digix DAO USD\">DGD-USD</a>,\n",
       " <a class=\"Fw(b)\" data-reactid=\"1771\" href=\"/quote/STEEM-USD?p=STEEM-USD\" title=\"Steem USD\">STEEM-USD</a>,\n",
       " <a class=\"Fw(b)\" data-reactid=\"1798\" href=\"/quote/XZC-USD?p=XZC-USD\" title=\"ZCoin USD\">XZC-USD</a>,\n",
       " <a class=\"Fw(b)\" data-reactid=\"1825\" href=\"/quote/ZEN-USD?p=ZEN-USD\" title=\"ZenCash USD\">ZEN-USD</a>,\n",
       " <a class=\"Fw(b)\" data-reactid=\"1852\" href=\"/quote/NXT-USD?p=NXT-USD\" title=\"Nxt USD\">NXT-USD</a>,\n",
       " <a class=\"Fw(b)\" data-reactid=\"1879\" href=\"/quote/SMART-USD?p=SMART-USD\" title=\"SmartCash USD\">SMART-USD</a>,\n",
       " <a class=\"Fw(b)\" data-reactid=\"1906\" href=\"/quote/DCN-USD?p=DCN-USD\" title=\"Dentacoin USD\">DCN-USD</a>,\n",
       " <a class=\"Fw(b)\" data-reactid=\"1933\" href=\"/quote/SALT-USD?p=SALT-USD\" title=\"Salt Lending USD\">SALT-USD</a>,\n",
       " <a class=\"Fw(b)\" data-reactid=\"1960\" href=\"/quote/SUB-USD?p=SUB-USD\" title=\"Substratum Network USD\">SUB-USD</a>,\n",
       " <a class=\"Fw(b)\" data-reactid=\"1987\" href=\"/quote/GAS-USD?p=GAS-USD\" title=\"Gas USD\">GAS-USD</a>,\n",
       " <a class=\"Fw(b)\" data-reactid=\"2014\" href=\"/quote/RLC-USD?p=RLC-USD\" title=\"iExec USD\">RLC-USD</a>,\n",
       " <a class=\"Fw(b)\" data-reactid=\"2041\" href=\"/quote/KIN-USD?p=KIN-USD\" title=\"Kin USD\">KIN-USD</a>,\n",
       " <a class=\"Fw(b)\" data-reactid=\"2068\" href=\"/quote/ICN-USD?p=ICN-USD\" title=\"Iconomi USD\">ICN-USD</a>,\n",
       " <a class=\"Fw(b)\" data-reactid=\"2095\" href=\"/quote/MTL-USD?p=MTL-USD\" title=\"Metal USD\">MTL-USD</a>,\n",
       " <a class=\"Fw(b)\" data-reactid=\"2122\" href=\"/quote/GBYTE-USD?p=GBYTE-USD\" title=\"Byteball USD\">GBYTE-USD</a>,\n",
       " <a class=\"Fw(b)\" data-reactid=\"2149\" href=\"/quote/NXS-USD?p=NXS-USD\" title=\"Nexus USD\">NXS-USD</a>,\n",
       " <a class=\"Fw(b)\" data-reactid=\"2176\" href=\"/quote/ANT-USD?p=ANT-USD\" title=\"Aragon USD\">ANT-USD</a>,\n",
       " <a class=\"Fw(b)\" data-reactid=\"2203\" href=\"/quote/NEBL-USD?p=NEBL-USD\" title=\"Neblio USD\">NEBL-USD</a>,\n",
       " <a class=\"Fw(b)\" data-reactid=\"2230\" href=\"/quote/QRL-USD?p=QRL-USD\" title=\"Quantum Resistant Ledger USD\">QRL-USD</a>,\n",
       " <a class=\"Fw(b)\" data-reactid=\"2257\" href=\"/quote/VTC-USD?p=VTC-USD\" title=\"VertCoin USD\">VTC-USD</a>,\n",
       " <a class=\"Fw(b)\" data-reactid=\"2284\" href=\"/quote/SNGLS-USD?p=SNGLS-USD\" title=\"SingularDTV USD\">SNGLS-USD</a>,\n",
       " <a class=\"Fw(b)\" data-reactid=\"2311\" href=\"/quote/BTCD-USD?p=BTCD-USD\" title=\"BitcoinDark USD\">BTCD-USD</a>,\n",
       " <a class=\"Fw(b)\" data-reactid=\"2338\" href=\"/quote/DNT-USD?p=DNT-USD\" title=\"district0x USD\">DNT-USD</a>,\n",
       " <a class=\"Fw(b)\" data-reactid=\"2365\" href=\"/quote/SNM-USD?p=SNM-USD\" title=\"SONM USD\">SNM-USD</a>,\n",
       " <a class=\"Fw(b)\" data-reactid=\"2392\" href=\"/quote/NAV-USD?p=NAV-USD\" title=\"NavCoin USD\">NAV-USD</a>,\n",
       " <a class=\"Fw(b)\" data-reactid=\"2419\" href=\"/quote/BCCOIN-USD?p=BCCOIN-USD\" title=\"BitConnect Coin USD\">BCCOIN-USD</a>,\n",
       " <a class=\"Fw(b)\" data-reactid=\"2446\" href=\"/quote/UBQ-USD?p=UBQ-USD\" title=\"Ubiq USD\">UBQ-USD</a>,\n",
       " <a class=\"Fw(b)\" data-reactid=\"2473\" href=\"/quote/EDG-USD?p=EDG-USD\" title=\"Edgeless USD\">EDG-USD</a>,\n",
       " <a class=\"Fw(b)\" data-reactid=\"2500\" href=\"/quote/BLOCK-USD?p=BLOCK-USD\" title=\"BlockNet USD\">BLOCK-USD</a>,\n",
       " <a class=\"Fw(b)\" data-reactid=\"2527\" href=\"/quote/WINGS-USD?p=WINGS-USD\" title=\"Wings DAO USD\">WINGS-USD</a>,\n",
       " <a class=\"Fw(b)\" data-reactid=\"2554\" href=\"/quote/FAIR-USD?p=FAIR-USD\" title=\"FairCoin USD\">FAIR-USD</a>,\n",
       " <a class=\"Fw(b)\" data-reactid=\"2581\" href=\"/quote/LKK-USD?p=LKK-USD\" title=\"Lykke USD\">LKK-USD</a>,\n",
       " <a class=\"Fw(b)\" data-reactid=\"2608\" href=\"/quote/XCP-USD?p=XCP-USD\" title=\"CounterParty USD\">XCP-USD</a>,\n",
       " <a class=\"Fw(b)\" data-reactid=\"2635\" href=\"/quote/MLN-USD?p=MLN-USD\" title=\"Melon USD\">MLN-USD</a>,\n",
       " <a class=\"Fw(b)\" data-reactid=\"2662\" href=\"/quote/GAME-USD?p=GAME-USD\" title=\"Gamecredits USD\">GAME-USD</a>,\n",
       " <a class=\"Fw(b)\" data-reactid=\"2689\" href=\"/quote/BQX-USD?p=BQX-USD\" title=\"Bitquence USD\">BQX-USD</a>,\n",
       " <a class=\"Fw(b)\" data-reactid=\"2716\" href=\"/quote/IOC-USD?p=IOC-USD\" title=\"IOCoin USD\">IOC-USD</a>,\n",
       " <a class=\"Fw(b)\" data-reactid=\"2743\" href=\"/quote/TAAS-USD?p=TAAS-USD\" title=\"Token as a Service USD\">TAAS-USD</a>]"
      ]
     },
     "execution_count": 21,
     "metadata": {},
     "output_type": "execute_result"
    }
   ],
   "source": [
    "crypto_tags = page_content.find_all('a', attrs={'class':'Fw(b)'})[1:]\n",
    "crypto_tags"
   ]
  },
  {
   "cell_type": "code",
   "execution_count": 63,
   "metadata": {},
   "outputs": [
    {
     "data": {
      "text/plain": [
       "'Bitcoin Cash / BCC USD'"
      ]
     },
     "execution_count": 63,
     "metadata": {},
     "output_type": "execute_result"
    }
   ],
   "source": [
    "# Sample regular expression to get cryptocurrency name\n",
    "re.search(r'title=\"(?P<crypto>(\\w+(\\s|/)*)+)\"', str(crypto_tags[3]))[1]"
   ]
  },
  {
   "cell_type": "code",
   "execution_count": 77,
   "metadata": {},
   "outputs": [],
   "source": [
    "data = []\n",
    "for tag in crypto_tags:\n",
    "    stock_code = tag.text\n",
    "    stock_name = re.search(r'title=\"(?P<crypto>(\\w+(\\s|/)*)+)\"', str(tag))[1]\n",
    "    data.append([stock_name, stock_code])"
   ]
  },
  {
   "cell_type": "code",
   "execution_count": 78,
   "metadata": {},
   "outputs": [
    {
     "data": {
      "text/html": [
       "<div>\n",
       "<style>\n",
       "    .dataframe thead tr:only-child th {\n",
       "        text-align: right;\n",
       "    }\n",
       "\n",
       "    .dataframe thead th {\n",
       "        text-align: left;\n",
       "    }\n",
       "\n",
       "    .dataframe tbody tr th {\n",
       "        vertical-align: top;\n",
       "    }\n",
       "</style>\n",
       "<table border=\"1\" class=\"dataframe\">\n",
       "  <thead>\n",
       "    <tr style=\"text-align: right;\">\n",
       "      <th></th>\n",
       "      <th>name</th>\n",
       "      <th>code</th>\n",
       "    </tr>\n",
       "  </thead>\n",
       "  <tbody>\n",
       "    <tr>\n",
       "      <th>0</th>\n",
       "      <td>Bitcoin USD</td>\n",
       "      <td>BTC-USD</td>\n",
       "    </tr>\n",
       "    <tr>\n",
       "      <th>1</th>\n",
       "      <td>Ripple USD</td>\n",
       "      <td>XRP-USD</td>\n",
       "    </tr>\n",
       "    <tr>\n",
       "      <th>2</th>\n",
       "      <td>Ethereum USD</td>\n",
       "      <td>ETH-USD</td>\n",
       "    </tr>\n",
       "    <tr>\n",
       "      <th>3</th>\n",
       "      <td>Bitcoin Cash / BCC USD</td>\n",
       "      <td>BCH-USD</td>\n",
       "    </tr>\n",
       "    <tr>\n",
       "      <th>4</th>\n",
       "      <td>Stellar USD</td>\n",
       "      <td>XLM-USD</td>\n",
       "    </tr>\n",
       "  </tbody>\n",
       "</table>\n",
       "</div>"
      ],
      "text/plain": [
       "                     name     code\n",
       "0             Bitcoin USD  BTC-USD\n",
       "1              Ripple USD  XRP-USD\n",
       "2            Ethereum USD  ETH-USD\n",
       "3  Bitcoin Cash / BCC USD  BCH-USD\n",
       "4             Stellar USD  XLM-USD"
      ]
     },
     "execution_count": 78,
     "metadata": {},
     "output_type": "execute_result"
    }
   ],
   "source": [
    "cryptos = pd.DataFrame(data, columns=['name', 'code'])\n",
    "cryptos.head()"
   ]
  },
  {
   "cell_type": "code",
   "execution_count": null,
   "metadata": {},
   "outputs": [],
   "source": [
    "cryptos.to_csv('..index=False)"
   ]
  }
 ],
 "metadata": {
  "kernelspec": {
   "display_name": "Python 3",
   "language": "python",
   "name": "python3"
  },
  "language_info": {
   "codemirror_mode": {
    "name": "ipython",
    "version": 3
   },
   "file_extension": ".py",
   "mimetype": "text/x-python",
   "name": "python",
   "nbconvert_exporter": "python",
   "pygments_lexer": "ipython3",
   "version": "3.6.3"
  }
 },
 "nbformat": 4,
 "nbformat_minor": 2
}
